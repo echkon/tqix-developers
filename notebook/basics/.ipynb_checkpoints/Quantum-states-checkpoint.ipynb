{
 "cells": [
  {
   "cell_type": "markdown",
   "metadata": {},
   "source": [
    "# tqix: quantum states\n",
    "\n",
    "Author: $Le\\ Bin\\ Ho$\n",
    "\n",
    "##### It is straightforward to construct quantum states with some standard bases and conventional states that are built into tqix.\n"
   ]
  },
  {
   "cell_type": "code",
   "execution_count": 4,
   "metadata": {},
   "outputs": [],
   "source": [
    "import numpy as np\n",
    "from tqix import *"
   ]
  },
  {
   "cell_type": "markdown",
   "metadata": {},
   "source": [
    "### 1. Computational basis \n",
    "We can reate a comutational basis with in tqix using obasis(d,k).\n",
    "<br>\n",
    "For example:"
   ]
  },
  {
   "cell_type": "code",
   "execution_count": 5,
   "metadata": {},
   "outputs": [
    {
     "data": {
      "text/plain": [
       "array([[1.],\n",
       "       [0.],\n",
       "       [0.]])"
      ]
     },
     "execution_count": 5,
     "metadata": {},
     "output_type": "execute_result"
    }
   ],
   "source": [
    "obasis(3,0)"
   ]
  },
  {
   "cell_type": "markdown",
   "metadata": {},
   "source": [
    "For examble, we can create a quantum state \n",
    "    $|\\psi\\rangle = \\frac{1}{2}|0\\rangle -\\frac{1}{2}|1\\rangle + (\\frac{1}{2}+\\frac{i}{2})|2\\rangle$\n",
    "by    "
   ]
  },
  {
   "cell_type": "code",
   "execution_count": 6,
   "metadata": {},
   "outputs": [
    {
     "data": {
      "text/plain": [
       "array([[ 0.5+0.j ],\n",
       "       [-0.5+0.j ],\n",
       "       [ 0.5+0.5j]])"
      ]
     },
     "execution_count": 6,
     "metadata": {},
     "output_type": "execute_result"
    }
   ],
   "source": [
    "0.5 * obasis(3,0) - 0.5 * obasis(3,1) + (0.5 + 0.5j) * obasis(3,2)"
   ]
  },
  {
   "cell_type": "code",
   "execution_count": 7,
   "metadata": {},
   "outputs": [
    {
     "data": {
      "text/plain": [
       "array([[1., 0., 0.]])"
      ]
     },
     "execution_count": 7,
     "metadata": {},
     "output_type": "execute_result"
    }
   ],
   "source": [
    "### dual basis for the obasis\n",
    "dbasis(3,0)"
   ]
  },
  {
   "cell_type": "markdown",
   "metadata": {},
   "source": [
    "### 2. Zeeman basis\n",
    "Zeeman basis $| j, m⟩$ with spin number $j$ and quantum number $m$ indexed $[0,\n",
    "2 j-1]$.<br>\n",
    "For example: spin-1 has three elements basis as $|1,1\\rangle, |1,0\\rangle, |1,-1\\rangle$"
   ]
  },
  {
   "cell_type": "code",
   "execution_count": 8,
   "metadata": {},
   "outputs": [
    {
     "data": {
      "text/plain": [
       "(array([[1.],\n",
       "        [0.],\n",
       "        [0.]]),\n",
       " array([[0.],\n",
       "        [1.],\n",
       "        [0.]]),\n",
       " array([[0.],\n",
       "        [0.],\n",
       "        [1.]]))"
      ]
     },
     "execution_count": 8,
     "metadata": {},
     "output_type": "execute_result"
    }
   ],
   "source": [
    "zp = zbasis(1, 1)\n",
    "\n",
    "z0 = zbasis(1, 0)\n",
    "\n",
    "zm = zbasis(1, -1)\n",
    "\n",
    "zp, z0, zm"
   ]
  },
  {
   "cell_type": "markdown",
   "metadata": {},
   "source": [
    "Dual for the Zeeman basis is dzbasis(j,m)"
   ]
  },
  {
   "cell_type": "markdown",
   "metadata": {},
   "source": [
    "### 3. Random state\n",
    "Random state is genereate based on Harr measure.\n",
    "<br>\n",
    "We can call a random state d-dimension in tqix as follows:"
   ]
  },
  {
   "cell_type": "code",
   "execution_count": 9,
   "metadata": {},
   "outputs": [
    {
     "data": {
      "text/plain": [
       "array([[0.85131794+0.18773695j],\n",
       "       [0.13452059+0.38406471j],\n",
       "       [0.23327902+0.14139311j]])"
      ]
     },
     "execution_count": 9,
     "metadata": {},
     "output_type": "execute_result"
    }
   ],
   "source": [
    "q = random(3)\n",
    "q"
   ]
  },
  {
   "cell_type": "code",
   "execution_count": 10,
   "metadata": {},
   "outputs": [
    {
     "data": {
      "text/plain": [
       "True"
      ]
     },
     "execution_count": 10,
     "metadata": {},
     "output_type": "execute_result"
    }
   ],
   "source": [
    "isnormx(q)"
   ]
  },
  {
   "cell_type": "markdown",
   "metadata": {},
   "source": [
    "### 3. Coherent state\n",
    "Coherent state cut off at d dimension, alpha complex number."
   ]
  },
  {
   "cell_type": "code",
   "execution_count": 11,
   "metadata": {},
   "outputs": [
    {
     "data": {
      "text/plain": [
       "array([[ 0.11427191+1.19122526e-16j],\n",
       "       [ 0.03266613+6.53322690e-02j],\n",
       "       [-0.31513543+4.20180580e-01j],\n",
       "       [-0.01694247-3.08044926e-03j],\n",
       "       [-0.23517466-8.06313110e-01j]])"
      ]
     },
     "execution_count": 11,
     "metadata": {},
     "output_type": "execute_result"
    }
   ],
   "source": [
    "coherent(5,1+2j)"
   ]
  },
  {
   "cell_type": "markdown",
   "metadata": {},
   "source": [
    "### 4. Squeezed state \n",
    "Squeezed state cut off at d dimension, alpha, beta complexnumbers."
   ]
  },
  {
   "cell_type": "code",
   "execution_count": 12,
   "metadata": {},
   "outputs": [
    {
     "data": {
      "text/plain": [
       "array([[0.57567761],\n",
       "       [0.63275179],\n",
       "       [0.45174436],\n",
       "       [0.23591607],\n",
       "       [0.0921472 ]])"
      ]
     },
     "execution_count": 12,
     "metadata": {},
     "output_type": "execute_result"
    }
   ],
   "source": [
    "squeezed(5,1,0.1)"
   ]
  },
  {
   "cell_type": "markdown",
   "metadata": {},
   "source": [
    "### 5. Position state\n",
    "Position state cut off at d dimension, x number."
   ]
  },
  {
   "cell_type": "code",
   "execution_count": 13,
   "metadata": {},
   "outputs": [
    {
     "data": {
      "text/plain": [
       "array([[ 0.45291081],\n",
       "       [ 0.64051262],\n",
       "       [ 0.32025631],\n",
       "       [-0.26148818],\n",
       "       [-0.46225016]])"
      ]
     },
     "execution_count": 13,
     "metadata": {},
     "output_type": "execute_result"
    }
   ],
   "source": [
    "position(5, 1)"
   ]
  },
  {
   "cell_type": "markdown",
   "metadata": {},
   "source": [
    "### 6. spin coherent state"
   ]
  },
  {
   "cell_type": "code",
   "execution_count": 14,
   "metadata": {},
   "outputs": [
    {
     "data": {
      "text/plain": [
       "array([[ 2.26860780e-178-7.40983540e-163j],\n",
       "       [ 3.82672897e-146+9.37278278e-162j],\n",
       "       [-2.43531541e-145+1.32572396e-129j],\n",
       "       [-3.53554700e-113-4.32979632e-129j],\n",
       "       [ 4.67708906e-113-7.63826609e-097j],\n",
       "       [ 1.36648400e-080+0.00000000e+000j],\n",
       "       [ 1.24742352e-080+2.03719720e-064j],\n",
       "       [-2.51497221e-048+3.07995267e-064j],\n",
       "       [-4.62029898e-048-2.51517362e-032j],\n",
       "       [ 1.93633661e-016-4.74265686e-032j],\n",
       "       [ 3.06161700e-016+1.00000000e+000j]])"
      ]
     },
     "execution_count": 14,
     "metadata": {},
     "output_type": "execute_result"
    }
   ],
   "source": [
    "pi = np.pi\n",
    "spin_coherent(5, pi, 0.5 * pi)"
   ]
  },
  {
   "cell_type": "markdown",
   "metadata": {},
   "source": [
    "### 7. GHZ state with n qubits"
   ]
  },
  {
   "cell_type": "code",
   "execution_count": 15,
   "metadata": {},
   "outputs": [
    {
     "data": {
      "text/plain": [
       "array([[0.70710678],\n",
       "       [0.        ],\n",
       "       [0.        ],\n",
       "       [0.        ],\n",
       "       [0.        ],\n",
       "       [0.        ],\n",
       "       [0.        ],\n",
       "       [0.70710678]])"
      ]
     },
     "execution_count": 15,
     "metadata": {},
     "output_type": "execute_result"
    }
   ],
   "source": [
    "ghz(3)"
   ]
  },
  {
   "cell_type": "markdown",
   "metadata": {},
   "source": [
    "### 8. W state with n qubits"
   ]
  },
  {
   "cell_type": "code",
   "execution_count": 16,
   "metadata": {},
   "outputs": [
    {
     "data": {
      "text/plain": [
       "array([[0.        ],\n",
       "       [0.57735027],\n",
       "       [0.57735027],\n",
       "       [0.        ],\n",
       "       [0.57735027],\n",
       "       [0.        ],\n",
       "       [0.        ],\n",
       "       [0.        ]])"
      ]
     },
     "execution_count": 16,
     "metadata": {},
     "output_type": "execute_result"
    }
   ],
   "source": [
    "w(3)"
   ]
  },
  {
   "cell_type": "markdown",
   "metadata": {},
   "source": [
    "### 9. Dicke state with n qubits, k excited qubits"
   ]
  },
  {
   "cell_type": "code",
   "execution_count": 17,
   "metadata": {},
   "outputs": [
    {
     "data": {
      "text/plain": [
       "array([[0.        ],\n",
       "       [0.        ],\n",
       "       [0.        ],\n",
       "       [0.57735027],\n",
       "       [0.        ],\n",
       "       [0.57735027],\n",
       "       [0.57735027],\n",
       "       [0.        ]])"
      ]
     },
     "execution_count": 17,
     "metadata": {},
     "output_type": "execute_result"
    }
   ],
   "source": [
    "dicke(3,2)"
   ]
  },
  {
   "cell_type": "code",
   "execution_count": 18,
   "metadata": {},
   "outputs": [
    {
     "name": "stdout",
     "output_type": "stream",
     "text": [
      "\n",
      "tqix: Quantum computor Simulation code\n",
      "copyright (c) 2019 and later.\n",
      "authors: Binho Le \n",
      "\n",
      "tqix Version:       1.0.1\n",
      "Numpy Version:      1.19.2\n",
      "Scipy Version:      1.5.2\n",
      "Cython Version:     None\n",
      "Matplotlib Version: 3.3.2\n",
      "Python Version:     3.8.5\n",
      "Number of CPUs:     4\n",
      "Platform Info:      Darwin (x86_64)\n",
      "\n"
     ]
    }
   ],
   "source": [
    "about()"
   ]
  }
 ],
 "metadata": {
  "kernelspec": {
   "display_name": "Python 3",
   "language": "python",
   "name": "python3"
  },
  "language_info": {
   "codemirror_mode": {
    "name": "ipython",
    "version": 3
   },
   "file_extension": ".py",
   "mimetype": "text/x-python",
   "name": "python",
   "nbconvert_exporter": "python",
   "pygments_lexer": "ipython3",
   "version": "3.8.5"
  }
 },
 "nbformat": 4,
 "nbformat_minor": 4
}
